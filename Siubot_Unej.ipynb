{
  "nbformat": 4,
  "nbformat_minor": 0,
  "metadata": {
    "colab": {
      "provenance": []
    },
    "kernelspec": {
      "name": "python3",
      "display_name": "Python 3"
    },
    "language_info": {
      "name": "python"
    }
  },
  "cells": [
    {
      "cell_type": "markdown",
      "source": [
        "# Use Case: Chatbot for UNEJ Student Service\n",
        "SIUBOT (Simple UNEJ BOT) is a chatbot designed to assist the academic community and the public in accessing information available on the official website of the University of Jember. This chatbot gathers data through web scraping from the university's official website and is built using the Llama 3.3 70B Versatile model from Groq.\n",
        "\n",
        "With a Gradio-based visualization, SIUBOT serves as a simple prototype of a university chatbot, enhancing accessibility and efficiency in obtaining official university information.\n",
        "\n",
        "*Created by Renata Sayidatul*"
      ],
      "metadata": {
        "id": "_xa3ZTvsWOG6"
      }
    },
    {
      "cell_type": "code",
      "source": [
        "!pip install firecrawl-py -q"
      ],
      "metadata": {
        "id": "LM25nYrLUkuW"
      },
      "execution_count": 1,
      "outputs": []
    },
    {
      "cell_type": "code",
      "source": [
        "!pip install gradio openai"
      ],
      "metadata": {
        "colab": {
          "base_uri": "https://localhost:8080/"
        },
        "collapsed": true,
        "id": "KOlAy1nY9Lms",
        "outputId": "9fb68882-34bc-44a0-f7b3-bb3f878690f1"
      },
      "execution_count": 2,
      "outputs": [
        {
          "output_type": "stream",
          "name": "stdout",
          "text": [
            "Collecting gradio\n",
            "  Downloading gradio-5.14.0-py3-none-any.whl.metadata (16 kB)\n",
            "Requirement already satisfied: openai in /usr/local/lib/python3.11/dist-packages (1.59.9)\n",
            "Collecting aiofiles<24.0,>=22.0 (from gradio)\n",
            "  Downloading aiofiles-23.2.1-py3-none-any.whl.metadata (9.7 kB)\n",
            "Requirement already satisfied: anyio<5.0,>=3.0 in /usr/local/lib/python3.11/dist-packages (from gradio) (3.7.1)\n",
            "Collecting fastapi<1.0,>=0.115.2 (from gradio)\n",
            "  Downloading fastapi-0.115.8-py3-none-any.whl.metadata (27 kB)\n",
            "Collecting ffmpy (from gradio)\n",
            "  Downloading ffmpy-0.5.0-py3-none-any.whl.metadata (3.0 kB)\n",
            "Collecting gradio-client==1.7.0 (from gradio)\n",
            "  Downloading gradio_client-1.7.0-py3-none-any.whl.metadata (7.1 kB)\n",
            "Requirement already satisfied: httpx>=0.24.1 in /usr/local/lib/python3.11/dist-packages (from gradio) (0.28.1)\n",
            "Requirement already satisfied: huggingface-hub>=0.25.1 in /usr/local/lib/python3.11/dist-packages (from gradio) (0.27.1)\n",
            "Requirement already satisfied: jinja2<4.0 in /usr/local/lib/python3.11/dist-packages (from gradio) (3.1.5)\n",
            "Collecting markupsafe~=2.0 (from gradio)\n",
            "  Downloading MarkupSafe-2.1.5-cp311-cp311-manylinux_2_17_x86_64.manylinux2014_x86_64.whl.metadata (3.0 kB)\n",
            "Requirement already satisfied: numpy<3.0,>=1.0 in /usr/local/lib/python3.11/dist-packages (from gradio) (1.26.4)\n",
            "Requirement already satisfied: orjson~=3.0 in /usr/local/lib/python3.11/dist-packages (from gradio) (3.10.15)\n",
            "Requirement already satisfied: packaging in /usr/local/lib/python3.11/dist-packages (from gradio) (24.2)\n",
            "Requirement already satisfied: pandas<3.0,>=1.0 in /usr/local/lib/python3.11/dist-packages (from gradio) (2.2.2)\n",
            "Requirement already satisfied: pillow<12.0,>=8.0 in /usr/local/lib/python3.11/dist-packages (from gradio) (11.1.0)\n",
            "Requirement already satisfied: pydantic>=2.0 in /usr/local/lib/python3.11/dist-packages (from gradio) (2.10.6)\n",
            "Collecting pydub (from gradio)\n",
            "  Downloading pydub-0.25.1-py2.py3-none-any.whl.metadata (1.4 kB)\n",
            "Collecting python-multipart>=0.0.18 (from gradio)\n",
            "  Downloading python_multipart-0.0.20-py3-none-any.whl.metadata (1.8 kB)\n",
            "Requirement already satisfied: pyyaml<7.0,>=5.0 in /usr/local/lib/python3.11/dist-packages (from gradio) (6.0.2)\n",
            "Collecting ruff>=0.9.3 (from gradio)\n",
            "  Downloading ruff-0.9.4-py3-none-manylinux_2_17_x86_64.manylinux2014_x86_64.whl.metadata (25 kB)\n",
            "Collecting safehttpx<0.2.0,>=0.1.6 (from gradio)\n",
            "  Downloading safehttpx-0.1.6-py3-none-any.whl.metadata (4.2 kB)\n",
            "Collecting semantic-version~=2.0 (from gradio)\n",
            "  Downloading semantic_version-2.10.0-py2.py3-none-any.whl.metadata (9.7 kB)\n",
            "Collecting starlette<1.0,>=0.40.0 (from gradio)\n",
            "  Downloading starlette-0.45.3-py3-none-any.whl.metadata (6.3 kB)\n",
            "Collecting tomlkit<0.14.0,>=0.12.0 (from gradio)\n",
            "  Downloading tomlkit-0.13.2-py3-none-any.whl.metadata (2.7 kB)\n",
            "Requirement already satisfied: typer<1.0,>=0.12 in /usr/local/lib/python3.11/dist-packages (from gradio) (0.15.1)\n",
            "Requirement already satisfied: typing-extensions~=4.0 in /usr/local/lib/python3.11/dist-packages (from gradio) (4.12.2)\n",
            "Collecting uvicorn>=0.14.0 (from gradio)\n",
            "  Downloading uvicorn-0.34.0-py3-none-any.whl.metadata (6.5 kB)\n",
            "Requirement already satisfied: fsspec in /usr/local/lib/python3.11/dist-packages (from gradio-client==1.7.0->gradio) (2024.10.0)\n",
            "Requirement already satisfied: websockets<15.0,>=10.0 in /usr/local/lib/python3.11/dist-packages (from gradio-client==1.7.0->gradio) (14.2)\n",
            "Requirement already satisfied: distro<2,>=1.7.0 in /usr/local/lib/python3.11/dist-packages (from openai) (1.9.0)\n",
            "Requirement already satisfied: jiter<1,>=0.4.0 in /usr/local/lib/python3.11/dist-packages (from openai) (0.8.2)\n",
            "Requirement already satisfied: sniffio in /usr/local/lib/python3.11/dist-packages (from openai) (1.3.1)\n",
            "Requirement already satisfied: tqdm>4 in /usr/local/lib/python3.11/dist-packages (from openai) (4.67.1)\n",
            "Requirement already satisfied: idna>=2.8 in /usr/local/lib/python3.11/dist-packages (from anyio<5.0,>=3.0->gradio) (3.10)\n",
            "Requirement already satisfied: certifi in /usr/local/lib/python3.11/dist-packages (from httpx>=0.24.1->gradio) (2024.12.14)\n",
            "Requirement already satisfied: httpcore==1.* in /usr/local/lib/python3.11/dist-packages (from httpx>=0.24.1->gradio) (1.0.7)\n",
            "Requirement already satisfied: h11<0.15,>=0.13 in /usr/local/lib/python3.11/dist-packages (from httpcore==1.*->httpx>=0.24.1->gradio) (0.14.0)\n",
            "Requirement already satisfied: filelock in /usr/local/lib/python3.11/dist-packages (from huggingface-hub>=0.25.1->gradio) (3.17.0)\n",
            "Requirement already satisfied: requests in /usr/local/lib/python3.11/dist-packages (from huggingface-hub>=0.25.1->gradio) (2.32.3)\n",
            "Requirement already satisfied: python-dateutil>=2.8.2 in /usr/local/lib/python3.11/dist-packages (from pandas<3.0,>=1.0->gradio) (2.8.2)\n",
            "Requirement already satisfied: pytz>=2020.1 in /usr/local/lib/python3.11/dist-packages (from pandas<3.0,>=1.0->gradio) (2024.2)\n",
            "Requirement already satisfied: tzdata>=2022.7 in /usr/local/lib/python3.11/dist-packages (from pandas<3.0,>=1.0->gradio) (2025.1)\n",
            "Requirement already satisfied: annotated-types>=0.6.0 in /usr/local/lib/python3.11/dist-packages (from pydantic>=2.0->gradio) (0.7.0)\n",
            "Requirement already satisfied: pydantic-core==2.27.2 in /usr/local/lib/python3.11/dist-packages (from pydantic>=2.0->gradio) (2.27.2)\n",
            "Requirement already satisfied: click>=8.0.0 in /usr/local/lib/python3.11/dist-packages (from typer<1.0,>=0.12->gradio) (8.1.8)\n",
            "Requirement already satisfied: shellingham>=1.3.0 in /usr/local/lib/python3.11/dist-packages (from typer<1.0,>=0.12->gradio) (1.5.4)\n",
            "Requirement already satisfied: rich>=10.11.0 in /usr/local/lib/python3.11/dist-packages (from typer<1.0,>=0.12->gradio) (13.9.4)\n",
            "Requirement already satisfied: six>=1.5 in /usr/local/lib/python3.11/dist-packages (from python-dateutil>=2.8.2->pandas<3.0,>=1.0->gradio) (1.17.0)\n",
            "Requirement already satisfied: markdown-it-py>=2.2.0 in /usr/local/lib/python3.11/dist-packages (from rich>=10.11.0->typer<1.0,>=0.12->gradio) (3.0.0)\n",
            "Requirement already satisfied: pygments<3.0.0,>=2.13.0 in /usr/local/lib/python3.11/dist-packages (from rich>=10.11.0->typer<1.0,>=0.12->gradio) (2.18.0)\n",
            "Requirement already satisfied: charset-normalizer<4,>=2 in /usr/local/lib/python3.11/dist-packages (from requests->huggingface-hub>=0.25.1->gradio) (3.4.1)\n",
            "Requirement already satisfied: urllib3<3,>=1.21.1 in /usr/local/lib/python3.11/dist-packages (from requests->huggingface-hub>=0.25.1->gradio) (2.3.0)\n",
            "Requirement already satisfied: mdurl~=0.1 in /usr/local/lib/python3.11/dist-packages (from markdown-it-py>=2.2.0->rich>=10.11.0->typer<1.0,>=0.12->gradio) (0.1.2)\n",
            "Downloading gradio-5.14.0-py3-none-any.whl (57.7 MB)\n",
            "\u001b[2K   \u001b[90m━━━━━━━━━━━━━━━━━━━━━━━━━━━━━━━━━━━━━━━━\u001b[0m \u001b[32m57.7/57.7 MB\u001b[0m \u001b[31m11.4 MB/s\u001b[0m eta \u001b[36m0:00:00\u001b[0m\n",
            "\u001b[?25hDownloading gradio_client-1.7.0-py3-none-any.whl (321 kB)\n",
            "\u001b[2K   \u001b[90m━━━━━━━━━━━━━━━━━━━━━━━━━━━━━━━━━━━━━━━━\u001b[0m \u001b[32m321.9/321.9 kB\u001b[0m \u001b[31m24.8 MB/s\u001b[0m eta \u001b[36m0:00:00\u001b[0m\n",
            "\u001b[?25hDownloading aiofiles-23.2.1-py3-none-any.whl (15 kB)\n",
            "Downloading fastapi-0.115.8-py3-none-any.whl (94 kB)\n",
            "\u001b[2K   \u001b[90m━━━━━━━━━━━━━━━━━━━━━━━━━━━━━━━━━━━━━━━━\u001b[0m \u001b[32m94.8/94.8 kB\u001b[0m \u001b[31m8.4 MB/s\u001b[0m eta \u001b[36m0:00:00\u001b[0m\n",
            "\u001b[?25hDownloading MarkupSafe-2.1.5-cp311-cp311-manylinux_2_17_x86_64.manylinux2014_x86_64.whl (28 kB)\n",
            "Downloading python_multipart-0.0.20-py3-none-any.whl (24 kB)\n",
            "Downloading ruff-0.9.4-py3-none-manylinux_2_17_x86_64.manylinux2014_x86_64.whl (12.4 MB)\n",
            "\u001b[2K   \u001b[90m━━━━━━━━━━━━━━━━━━━━━━━━━━━━━━━━━━━━━━━━\u001b[0m \u001b[32m12.4/12.4 MB\u001b[0m \u001b[31m103.5 MB/s\u001b[0m eta \u001b[36m0:00:00\u001b[0m\n",
            "\u001b[?25hDownloading safehttpx-0.1.6-py3-none-any.whl (8.7 kB)\n",
            "Downloading semantic_version-2.10.0-py2.py3-none-any.whl (15 kB)\n",
            "Downloading starlette-0.45.3-py3-none-any.whl (71 kB)\n",
            "\u001b[2K   \u001b[90m━━━━━━━━━━━━━━━━━━━━━━━━━━━━━━━━━━━━━━━━\u001b[0m \u001b[32m71.5/71.5 kB\u001b[0m \u001b[31m7.1 MB/s\u001b[0m eta \u001b[36m0:00:00\u001b[0m\n",
            "\u001b[?25hDownloading tomlkit-0.13.2-py3-none-any.whl (37 kB)\n",
            "Downloading uvicorn-0.34.0-py3-none-any.whl (62 kB)\n",
            "\u001b[2K   \u001b[90m━━━━━━━━━━━━━━━━━━━━━━━━━━━━━━━━━━━━━━━━\u001b[0m \u001b[32m62.3/62.3 kB\u001b[0m \u001b[31m6.6 MB/s\u001b[0m eta \u001b[36m0:00:00\u001b[0m\n",
            "\u001b[?25hDownloading ffmpy-0.5.0-py3-none-any.whl (6.0 kB)\n",
            "Downloading pydub-0.25.1-py2.py3-none-any.whl (32 kB)\n",
            "Installing collected packages: pydub, uvicorn, tomlkit, semantic-version, ruff, python-multipart, markupsafe, ffmpy, aiofiles, starlette, safehttpx, gradio-client, fastapi, gradio\n",
            "  Attempting uninstall: markupsafe\n",
            "    Found existing installation: MarkupSafe 3.0.2\n",
            "    Uninstalling MarkupSafe-3.0.2:\n",
            "      Successfully uninstalled MarkupSafe-3.0.2\n",
            "\u001b[31mERROR: pip's dependency resolver does not currently take into account all the packages that are installed. This behaviour is the source of the following dependency conflicts.\n",
            "torch 2.5.1+cu124 requires nvidia-cublas-cu12==12.4.5.8; platform_system == \"Linux\" and platform_machine == \"x86_64\", but you have nvidia-cublas-cu12 12.5.3.2 which is incompatible.\n",
            "torch 2.5.1+cu124 requires nvidia-cuda-cupti-cu12==12.4.127; platform_system == \"Linux\" and platform_machine == \"x86_64\", but you have nvidia-cuda-cupti-cu12 12.5.82 which is incompatible.\n",
            "torch 2.5.1+cu124 requires nvidia-cuda-nvrtc-cu12==12.4.127; platform_system == \"Linux\" and platform_machine == \"x86_64\", but you have nvidia-cuda-nvrtc-cu12 12.5.82 which is incompatible.\n",
            "torch 2.5.1+cu124 requires nvidia-cuda-runtime-cu12==12.4.127; platform_system == \"Linux\" and platform_machine == \"x86_64\", but you have nvidia-cuda-runtime-cu12 12.5.82 which is incompatible.\n",
            "torch 2.5.1+cu124 requires nvidia-cudnn-cu12==9.1.0.70; platform_system == \"Linux\" and platform_machine == \"x86_64\", but you have nvidia-cudnn-cu12 9.3.0.75 which is incompatible.\n",
            "torch 2.5.1+cu124 requires nvidia-cufft-cu12==11.2.1.3; platform_system == \"Linux\" and platform_machine == \"x86_64\", but you have nvidia-cufft-cu12 11.2.3.61 which is incompatible.\n",
            "torch 2.5.1+cu124 requires nvidia-curand-cu12==10.3.5.147; platform_system == \"Linux\" and platform_machine == \"x86_64\", but you have nvidia-curand-cu12 10.3.6.82 which is incompatible.\n",
            "torch 2.5.1+cu124 requires nvidia-cusolver-cu12==11.6.1.9; platform_system == \"Linux\" and platform_machine == \"x86_64\", but you have nvidia-cusolver-cu12 11.6.3.83 which is incompatible.\n",
            "torch 2.5.1+cu124 requires nvidia-cusparse-cu12==12.3.1.170; platform_system == \"Linux\" and platform_machine == \"x86_64\", but you have nvidia-cusparse-cu12 12.5.1.3 which is incompatible.\n",
            "torch 2.5.1+cu124 requires nvidia-nvjitlink-cu12==12.4.127; platform_system == \"Linux\" and platform_machine == \"x86_64\", but you have nvidia-nvjitlink-cu12 12.5.82 which is incompatible.\u001b[0m\u001b[31m\n",
            "\u001b[0mSuccessfully installed aiofiles-23.2.1 fastapi-0.115.8 ffmpy-0.5.0 gradio-5.14.0 gradio-client-1.7.0 markupsafe-2.1.5 pydub-0.25.1 python-multipart-0.0.20 ruff-0.9.4 safehttpx-0.1.6 semantic-version-2.10.0 starlette-0.45.3 tomlkit-0.13.2 uvicorn-0.34.0\n"
          ]
        }
      ]
    },
    {
      "cell_type": "code",
      "source": [
        "!pip install groq -q"
      ],
      "metadata": {
        "id": "yy8xazeCXNpO",
        "colab": {
          "base_uri": "https://localhost:8080/"
        },
        "outputId": "9da57a2b-0ad4-4a19-89fb-314c483b5332"
      },
      "execution_count": 3,
      "outputs": [
        {
          "output_type": "stream",
          "name": "stdout",
          "text": [
            "\u001b[?25l   \u001b[90m━━━━━━━━━━━━━━━━━━━━━━━━━━━━━━━━━━━━━━━━\u001b[0m \u001b[32m0.0/109.7 kB\u001b[0m \u001b[31m?\u001b[0m eta \u001b[36m-:--:--\u001b[0m\r\u001b[2K   \u001b[90m━━━━━━━━━━━━━━━━━━━━━━━━━━━━━━━━━━━━━━━━\u001b[0m \u001b[32m109.7/109.7 kB\u001b[0m \u001b[31m4.2 MB/s\u001b[0m eta \u001b[36m0:00:00\u001b[0m\n",
            "\u001b[?25h"
          ]
        }
      ]
    },
    {
      "cell_type": "code",
      "source": [
        "import getpass\n",
        "import gradio as gr\n",
        "from groq import Groq\n",
        "from firecrawl import FirecrawlApp\n",
        "from IPython.core.display import Markdown"
      ],
      "metadata": {
        "id": "6IyUOW5rcv_J"
      },
      "execution_count": 4,
      "outputs": []
    },
    {
      "cell_type": "markdown",
      "source": [
        "## Web Scraping"
      ],
      "metadata": {
        "id": "FrWw5JzfdJxV"
      }
    },
    {
      "cell_type": "code",
      "source": [
        "FIRECRAWL_API_KEY = getpass.getpass(\"Firecrawl API Key: \")\n",
        "app = FirecrawlApp(api_key=FIRECRAWL_API_KEY)"
      ],
      "metadata": {
        "id": "6xG5rfuZVcsx",
        "colab": {
          "base_uri": "https://localhost:8080/"
        },
        "outputId": "4275ad76-3434-417e-8302-5d49175e439a"
      },
      "execution_count": 5,
      "outputs": [
        {
          "name": "stdout",
          "output_type": "stream",
          "text": [
            "Firecrawl API Key: ··········\n"
          ]
        }
      ]
    },
    {
      "cell_type": "code",
      "source": [
        "unej = app.scrape_url(\n",
        "    'https://unej.ac.id/',\n",
        "    params={'formats': ['markdown', 'html']}\n",
        ")\n",
        "unej_markdown = unej[\"markdown\"]"
      ],
      "metadata": {
        "id": "8yyP9TpVgI3j"
      },
      "execution_count": 6,
      "outputs": []
    },
    {
      "cell_type": "code",
      "source": [
        "context = f\"\"\"The following are unej_markdown \\n\\n<unej_markdown>{unej_markdown}</unej_markdown>\\n\"\"\""
      ],
      "metadata": {
        "id": "8eDEVI8xhsdB"
      },
      "execution_count": 7,
      "outputs": []
    },
    {
      "cell_type": "markdown",
      "source": [
        "## Setup LLM"
      ],
      "metadata": {
        "id": "EoB2zeIsT9UV"
      }
    },
    {
      "cell_type": "code",
      "source": [
        "GROQ_API_KEY=getpass.getpass(\"Groq API Key: \")\n",
        "client = Groq(api_key=GROQ_API_KEY)"
      ],
      "metadata": {
        "id": "XomR06c5XXhi",
        "colab": {
          "base_uri": "https://localhost:8080/"
        },
        "outputId": "0b70814c-3ad4-4a3a-9c2d-67ad76d2c384"
      },
      "execution_count": 8,
      "outputs": [
        {
          "name": "stdout",
          "output_type": "stream",
          "text": [
            "Groq API Key: ··········\n"
          ]
        }
      ]
    },
    {
      "cell_type": "code",
      "source": [
        "system_message = f\"\"\"\n",
        "Halo! Kamu adalah asisten virtual yang membantu memberikan informasi terkait Universitas Jember kepada mahasiswa dan masyarakat.\n",
        "\n",
        "Saat menjawab pertanyaan:\n",
        "1. Mulailah dengan sapaan yang ramah dan hangat.\n",
        "2. Jawablah hanya berdasarkan informasi yang tersedia di website resmi Universitas Jember.\n",
        "3. Jangan menambahkan informasi lain yang tidak bersumber dari website resmi.\n",
        "4. Jika tidak mengetahui jawabannya atau pertanyaan kurang jelas, jawab dengan:\n",
        "   \"Maaf, saya kurang mengetahui hal tersebut. Untuk informasi lebih lanjut, silakan menghubungi Kemahasiswaan Universitas Jember atau Kemahasiswaan masing-masing Fakultas.\"\n",
        "5. Gunakan bahasa yang sesuai dengan bahasa pertanyaan yang diajukan.\n",
        "6. Akhiri setiap jawaban dengan ucapan terima kasih.\n",
        "\"\"\""
      ],
      "metadata": {
        "id": "yC7oMdIOXcYJ"
      },
      "execution_count": 9,
      "outputs": []
    },
    {
      "cell_type": "code",
      "source": [
        "def get_response(query: str, context: str):\n",
        "  completion = client.chat.completions.create(\n",
        "      model=\"llama-3.3-70b-versatile\",\n",
        "      messages=[\n",
        "          {\n",
        "              \"role\": \"system\",\n",
        "              \"content\": system_message\n",
        "          },\n",
        "          {\n",
        "              \"role\": \"user\",\n",
        "              \"content\": context\n",
        "          },\n",
        "          {\n",
        "              \"role\": \"user\",\n",
        "              \"content\": query\n",
        "          }\n",
        "      ],\n",
        "      temperature=0,\n",
        "      max_tokens=2400,\n",
        "      top_p=1,\n",
        "      stream=False,\n",
        "      stop=None,\n",
        "  )\n",
        "  return completion.choices[0].message.content"
      ],
      "metadata": {
        "id": "qaAmh3oyX9Bv"
      },
      "execution_count": 10,
      "outputs": []
    },
    {
      "cell_type": "markdown",
      "source": [
        "## Manual Testing"
      ],
      "metadata": {
        "id": "2li0tfpWdpcG"
      }
    },
    {
      "cell_type": "code",
      "source": [
        "answer = get_response(\n",
        "    query=\"Apa itu Universitas Jember?\",\n",
        "    context=context,\n",
        ")\n",
        "display(Markdown(answer))"
      ],
      "metadata": {
        "colab": {
          "base_uri": "https://localhost:8080/",
          "height": 81
        },
        "id": "CUmw0vxMCcp6",
        "outputId": "88d6419c-fc95-49f9-c4ea-7389aa3d009b"
      },
      "execution_count": 12,
      "outputs": [
        {
          "output_type": "display_data",
          "data": {
            "text/plain": [
              "<IPython.core.display.Markdown object>"
            ],
            "text/markdown": "Halo! Universitas Jember (UNEJ) adalah Perguruan Tinggi Negeri (PTN) yang berdiri semenjak tahun 1964 di Jember, Jawa Timur. UNEJ merupakan salah satu perguruan tinggi terkemuka di Indonesia yang mengembangkan berbagai rumpun keilmuan, termasuk ilmu pertanian, keteknikan, kesehatan, dan sosial humaniora. Universitas ini memiliki visi dan misi untuk mengembangkan dan memajukan pendidikan, penelitian, dan pengabdian kepada masyarakat. Terima kasih!"
          },
          "metadata": {}
        }
      ]
    },
    {
      "cell_type": "code",
      "source": [
        "answer = get_response(\n",
        "    query=\"I want to apply at Faculty of Computer Science in Information System program, could you give me some information about that? And what sholud I do next?\",\n",
        "    context=context,\n",
        "    )\n",
        "display(Markdown(answer))"
      ],
      "metadata": {
        "colab": {
          "base_uri": "https://localhost:8080/",
          "height": 360
        },
        "id": "DHMVuCIKnlGd",
        "outputId": "f41edd9c-3f26-4233-ff57-3b17bd8604f9"
      },
      "execution_count": 15,
      "outputs": [
        {
          "output_type": "display_data",
          "data": {
            "text/plain": [
              "<IPython.core.display.Markdown object>"
            ],
            "text/markdown": "Halo! Saya senang membantu Anda. Universitas Jember memiliki Fakultas Ilmu Komputer, bukan Fakultas Ilmu Komputer saja, tetapi juga memiliki program studi Sistem Informasi di bawah naungan Fakultas Ilmu Komputer.\n\nBerikut adalah beberapa informasi tentang program studi Sistem Informasi di Fakultas Ilmu Komputer Universitas Jember:\n\n* Program studi Sistem Informasi di Fakultas Ilmu Komputer Universitas Jember memiliki akreditasi A dari BAN-PT.\n* Program studi ini memiliki visi untuk menghasilkan lulusan yang kompeten dalam bidang sistem informasi dan dapat mengembangkan solusi teknologi informasi yang inovatif.\n* Kurikulum program studi Sistem Informasi di Fakultas Ilmu Komputer Universitas Jember mencakup mata kuliah seperti Pengantar Sistem Informasi, Basis Data, Pemrograman, Analisis dan Desain Sistem, dan lain-lain.\n\nUntuk mendaftar ke program studi Sistem Informasi di Fakultas Ilmu Komputer Universitas Jember, Anda dapat mengikuti langkah-langkah berikut:\n\n* Pastikan Anda telah memenuhi persyaratan pendaftaran, seperti memiliki ijazah SMA/SMK/MA yang relevan dan memiliki nilai yang memenuhi syarat.\n* Pilih jalur pendaftaran yang sesuai, seperti SNMPTN, SBMPTN, atau Mandiri.\n* Isi formulir pendaftaran online dan unggah dokumen yang diperlukan.\n* Ikuti tes seleksi masuk, jika diperlukan.\n* Tunggu pengumuman hasil seleksi masuk.\n\nAnda dapat memeriksa situs web resmi Universitas Jember untuk mendapatkan informasi lebih lanjut tentang pendaftaran dan program studi Sistem Informasi di Fakultas Ilmu Komputer.\n\nTerima kasih!"
          },
          "metadata": {}
        }
      ]
    },
    {
      "cell_type": "code",
      "source": [
        "answer = get_response(\n",
        "    query=\"Apakah ada beasiswa yang bisa saya dapatkan di universitas ini?\",\n",
        "    context=context,\n",
        "    )\n",
        "\n",
        "display(Markdown(answer))"
      ],
      "metadata": {
        "colab": {
          "base_uri": "https://localhost:8080/",
          "height": 64
        },
        "id": "xcJt6u0eeS5M",
        "outputId": "a874d4ca-13c3-45c2-9f30-f16938c620c8"
      },
      "execution_count": 20,
      "outputs": [
        {
          "output_type": "display_data",
          "data": {
            "text/plain": [
              "<IPython.core.display.Markdown object>"
            ],
            "text/markdown": "Halo! Ya, Universitas Jember menawarkan beberapa jenis beasiswa untuk mahasiswanya. Informasi lebih lanjut tentang beasiswa dapat ditemukan di website resmi Universitas Jember, khususnya di halaman Kemahasiswaan. \nTerima kasih!"
          },
          "metadata": {}
        }
      ]
    },
    {
      "cell_type": "code",
      "source": [
        "answer = get_response(\n",
        "    query=\"Apa saja program kemahasiswaa yang ada di universitas ini?\",\n",
        "    context=context,\n",
        "    )\n",
        "\n",
        "display(Markdown(answer))"
      ],
      "metadata": {
        "colab": {
          "base_uri": "https://localhost:8080/",
          "height": 208
        },
        "id": "MvKfDzjvezeU",
        "outputId": "032260c1-43a1-497b-9a60-1423776e4d4f"
      },
      "execution_count": 22,
      "outputs": [
        {
          "output_type": "display_data",
          "data": {
            "text/plain": [
              "<IPython.core.display.Markdown object>"
            ],
            "text/markdown": "Halo! Terima kasih telah bertanya tentang program kemahasiswaan di Universitas Jember. \n\nBerdasarkan informasi yang tersedia di website resmi Universitas Jember, beberapa program kemahasiswaan yang ada di universitas ini antara lain:\n\n1. Program Merdeka Belajar Kampus Merdeka (MBKM)\n2. Asistensi Mengajar\n3. Kegiatan Mahasiswa\n4. Program Beasiswa\n\nUntuk informasi lebih lanjut, silakan mengunjungi website resmi Universitas Jember atau menghubungi Kemahasiswaan Universitas Jember.\n\nTerima kasih!"
          },
          "metadata": {}
        }
      ]
    },
    {
      "cell_type": "markdown",
      "source": [
        "## With User Interface from Gradio"
      ],
      "metadata": {
        "id": "rzHFSTDlh1kN"
      }
    },
    {
      "cell_type": "code",
      "source": [
        "def chat_interface(query, context=\"\"):\n",
        "    if not query:\n",
        "        return \"Maaf, pertanyaan tidak boleh kosong.\"\n",
        "    else:\n",
        "        try:\n",
        "            response = get_response(query, context)\n",
        "            return response\n",
        "        except Exception as e:\n",
        "            return f\"Error: {str(e)}\"\n",
        "\n",
        "siubot = gr.Interface(\n",
        "    fn=chat_interface,\n",
        "    inputs=[\n",
        "        gr.Textbox(label=\"Pertanyaan\", placeholder=\"Ketik pertanyaanmu di sini...\"),\n",
        "        gr.Textbox(label=\"Konteks (Opsional)\", placeholder=\"Berikan konteks pertanyaanmu di sini (opsional)...\"),\n",
        "    ],\n",
        "    outputs=gr.Textbox(label=\"Asisten Kemahasiswaan\"),\n",
        "    title=\"SIUBOT - UNEJ Chatbot\",\n",
        "    description=\"Selamat datang di SIUBOT! Silakan tanyakan pertanyaan apapun seputar Universitas Jember.\",\n",
        ")\n",
        "\n",
        "siubot.launch(pwa=True, share=True)"
      ],
      "metadata": {
        "colab": {
          "base_uri": "https://localhost:8080/",
          "height": 611
        },
        "id": "tJtOwHFCjNcm",
        "outputId": "1b406453-67ab-4038-c4ee-8ee8ac863c59"
      },
      "execution_count": 29,
      "outputs": [
        {
          "output_type": "stream",
          "name": "stdout",
          "text": [
            "Colab notebook detected. To show errors in colab notebook, set debug=True in launch()\n",
            "* Running on public URL: https://eff05217d4a792970e.gradio.live\n",
            "\n",
            "This share link expires in 72 hours. For free permanent hosting and GPU upgrades, run `gradio deploy` from the terminal in the working directory to deploy to Hugging Face Spaces (https://huggingface.co/spaces)\n"
          ]
        },
        {
          "output_type": "display_data",
          "data": {
            "text/plain": [
              "<IPython.core.display.HTML object>"
            ],
            "text/html": [
              "<div><iframe src=\"https://eff05217d4a792970e.gradio.live\" width=\"100%\" height=\"500\" allow=\"autoplay; camera; microphone; clipboard-read; clipboard-write;\" frameborder=\"0\" allowfullscreen></iframe></div>"
            ]
          },
          "metadata": {}
        },
        {
          "output_type": "execute_result",
          "data": {
            "text/plain": []
          },
          "metadata": {},
          "execution_count": 29
        }
      ]
    },
    {
      "cell_type": "markdown",
      "source": [
        "## **Limitations**  \n",
        "This simple chatbot has several limitations, including:  \n",
        "1. The chatbot only provides answers based on the information available on the official University of Jember website.  \n",
        "2. It can only respond to questions in **Indonesian**.  \n",
        "\n",
        "## **Development Suggestions**  \n",
        "Future improvements may include using a more advanced language model or chatbot architecture to enhance response accuracy. Implementing **Retrieval-Augmented Generation (RAG)** could improve inference by incorporating internal data for more relevant answers. Additionally, expanding multilingual support would allow the chatbot to respond in multiple languages based on user preferences. Further enhancements could also include a more comprehensive **user interface** for a better user experience.\n",
        "\n",
        "The **SIUBOT** model is currently under development to become more **flexible and adaptive**. Stay tuned for updates! 🚀"
      ],
      "metadata": {
        "id": "ZxNT4__QoBaB"
      }
    }
  ]
}